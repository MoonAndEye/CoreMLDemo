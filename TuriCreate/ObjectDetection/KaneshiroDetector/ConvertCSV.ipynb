{
 "cells": [
  {
   "cell_type": "code",
   "execution_count": 1,
   "metadata": {},
   "outputs": [],
   "source": [
    "import sys\n",
    "import pandas as pd\n",
    "import math\n",
    "import os"
   ]
  },
  {
   "cell_type": "code",
   "execution_count": 18,
   "metadata": {},
   "outputs": [
    {
     "name": "stdout",
     "output_type": "stream",
     "text": [
      "               image  id       name   xMin    xMax   yMin   yMax annotations\n",
      "0   kaneshiro_16.jpg   1  Kaneshiro   53.0   349.0    4.0  402.0            \n",
      "1   kaneshiro_17.jpg   1  Kaneshiro  268.0   401.0  282.0  447.0            \n",
      "2   kaneshiro_15.jpg   1  Kaneshiro   29.0   287.0    1.0  284.0            \n",
      "3   kaneshiro_29.jpg   1  Kaneshiro  142.0   499.0   25.0  493.0            \n",
      "4   kaneshiro_28.jpg   1  Kaneshiro   96.0   476.0   38.0  489.0            \n",
      "5   kaneshiro_14.jpg   1  Kaneshiro   67.0   399.0    1.0  338.0            \n",
      "6   kaneshiro_38.jpg   1  Kaneshiro  472.0  1235.0   17.0  738.0            \n",
      "7   kaneshiro_10.jpg   1  Kaneshiro   92.0   141.0   73.0  135.0            \n",
      "8   kaneshiro_11.jpg   1  Kaneshiro  208.0   589.0   12.0  438.0            \n",
      "9   kaneshiro_39.jpg   1  Kaneshiro  119.0   524.0    8.0  465.0            \n",
      "10   kaneshiro_9.jpg   1  Kaneshiro  238.0   536.0   64.0  458.0            \n",
      "11  kaneshiro_13.jpg   1  Kaneshiro  107.0   364.0   41.0  433.0            \n",
      "12  kaneshiro_12.jpg   1  Kaneshiro   31.0   284.0    2.0  280.0            \n",
      "13   kaneshiro_8.jpg   1  Kaneshiro  131.0   271.0   82.0  230.0            \n",
      "14  kaneshiro_23.jpg   1  Kaneshiro  238.0   350.0   18.0  165.0            \n",
      "15  kaneshiro_37.jpg   1  Kaneshiro   58.0   374.0    2.0  323.0            \n",
      "16   kaneshiro_5.jpg   1  Kaneshiro  163.0   452.0   21.0  352.0            \n",
      "17   kaneshiro_4.jpg   1  Kaneshiro  107.0   340.0   45.0  354.0            \n",
      "18  kaneshiro_36.jpg   1  Kaneshiro  197.0   481.0    5.0  282.0            \n",
      "19  kaneshiro_22.jpg   1  Kaneshiro   31.0   166.0   10.0  192.0            \n",
      "20  kaneshiro_34.jpg   1  Kaneshiro   66.0   159.0    6.0  125.0            \n",
      "21  kaneshiro_20.jpg   1  Kaneshiro  384.0   719.0    5.0  334.0            \n",
      "22   kaneshiro_6.jpg   1  Kaneshiro  181.0   366.0   50.0  280.0            \n",
      "23   kaneshiro_7.jpg   1  Kaneshiro  352.0   807.0    6.0  664.0            \n",
      "24  kaneshiro_21.jpg   1  Kaneshiro   85.0   171.0   17.0  114.0            \n",
      "25  kaneshiro_35.jpg   1  Kaneshiro   53.0   215.0   33.0  162.0            \n",
      "26  kaneshiro_31.png   1  Kaneshiro   80.0   287.0    7.0  243.0            \n",
      "27   kaneshiro_3.jpg   1  Kaneshiro  210.0   352.0   89.0  269.0            \n",
      "28  kaneshiro_19.jpg   1  Kaneshiro  221.0   383.0  232.0  443.0            \n",
      "29  kaneshiro_25.jpg   1  Kaneshiro  111.0   175.0    2.0   91.0            \n",
      "30  kaneshiro_24.jpg   1  Kaneshiro  151.0   273.0   43.0  189.0            \n",
      "31  kaneshiro_30.jpg   1  Kaneshiro  214.0   687.0    2.0  467.0            \n",
      "32  kaneshiro_18.jpg   1  Kaneshiro  216.0   438.0   84.0  343.0            \n",
      "33   kaneshiro_2.jpg   1  Kaneshiro  107.0   555.0    3.0  532.0            \n",
      "34  kaneshiro_26.jpg   1  Kaneshiro  441.0   789.0   46.0  473.0            \n",
      "35  kaneshiro_32.jpg   1  Kaneshiro  194.0   281.0   19.0  121.0            \n",
      "36  kaneshiro_33.jpg   1  Kaneshiro   72.0   244.0    3.0  181.0            \n",
      "37  kaneshiro_27.jpg   1  Kaneshiro   91.0   220.0   12.0  177.0            \n",
      "38  kaneshiro_40.jpg   1  Kaneshiro   68.0   200.0   86.0  233.0            \n"
     ]
    }
   ],
   "source": [
    "filePath = \"Kaneshiro.csv\"\n",
    "#names = [\"image\", \"id\", \"label\", \"xMin\", \"xMax\", \"yMin\", \"yMax\", \"annotations\"]\n",
    "df = pd.read_csv(filePath, header=0,\n",
    "                  dtype={\"annotations\": str})\n",
    "\n",
    "df[\"annotations\"] = \"\"\n",
    "\n",
    "print(df)"
   ]
  },
  {
   "cell_type": "code",
   "execution_count": 19,
   "metadata": {},
   "outputs": [
    {
     "name": "stdout",
     "output_type": "stream",
     "text": [
      "{'type': 'rectangle', 'coordinates': {'y': 203.0, 'width': 296.0, 'x': 201.0, 'height': 398.0}, 'label': 'Kaneshiro'}\n",
      "{'type': 'rectangle', 'coordinates': {'y': 364.0, 'width': 133.0, 'x': 334.0, 'height': 165.0}, 'label': 'Kaneshiro'}\n",
      "{'type': 'rectangle', 'coordinates': {'y': 142.0, 'width': 258.0, 'x': 158.0, 'height': 283.0}, 'label': 'Kaneshiro'}\n",
      "{'type': 'rectangle', 'coordinates': {'y': 259.0, 'width': 357.0, 'x': 320.0, 'height': 468.0}, 'label': 'Kaneshiro'}\n",
      "{'type': 'rectangle', 'coordinates': {'y': 263.0, 'width': 380.0, 'x': 286.0, 'height': 451.0}, 'label': 'Kaneshiro'}\n",
      "{'type': 'rectangle', 'coordinates': {'y': 169.0, 'width': 332.0, 'x': 233.0, 'height': 337.0}, 'label': 'Kaneshiro'}\n",
      "{'type': 'rectangle', 'coordinates': {'y': 377.0, 'width': 763.0, 'x': 853.0, 'height': 721.0}, 'label': 'Kaneshiro'}\n",
      "{'type': 'rectangle', 'coordinates': {'y': 104.0, 'width': 49.0, 'x': 116.0, 'height': 62.0}, 'label': 'Kaneshiro'}\n",
      "{'type': 'rectangle', 'coordinates': {'y': 225.0, 'width': 381.0, 'x': 398.0, 'height': 426.0}, 'label': 'Kaneshiro'}\n",
      "{'type': 'rectangle', 'coordinates': {'y': 236.0, 'width': 405.0, 'x': 321.0, 'height': 457.0}, 'label': 'Kaneshiro'}\n",
      "{'type': 'rectangle', 'coordinates': {'y': 261.0, 'width': 298.0, 'x': 387.0, 'height': 394.0}, 'label': 'Kaneshiro'}\n",
      "{'type': 'rectangle', 'coordinates': {'y': 237.0, 'width': 257.0, 'x': 235.0, 'height': 392.0}, 'label': 'Kaneshiro'}\n",
      "{'type': 'rectangle', 'coordinates': {'y': 141.0, 'width': 253.0, 'x': 157.0, 'height': 278.0}, 'label': 'Kaneshiro'}\n",
      "{'type': 'rectangle', 'coordinates': {'y': 156.0, 'width': 140.0, 'x': 201.0, 'height': 148.0}, 'label': 'Kaneshiro'}\n",
      "{'type': 'rectangle', 'coordinates': {'y': 91.0, 'width': 112.0, 'x': 294.0, 'height': 147.0}, 'label': 'Kaneshiro'}\n",
      "{'type': 'rectangle', 'coordinates': {'y': 162.0, 'width': 316.0, 'x': 216.0, 'height': 321.0}, 'label': 'Kaneshiro'}\n",
      "{'type': 'rectangle', 'coordinates': {'y': 186.0, 'width': 289.0, 'x': 307.0, 'height': 331.0}, 'label': 'Kaneshiro'}\n",
      "{'type': 'rectangle', 'coordinates': {'y': 199.0, 'width': 233.0, 'x': 223.0, 'height': 309.0}, 'label': 'Kaneshiro'}\n",
      "{'type': 'rectangle', 'coordinates': {'y': 143.0, 'width': 284.0, 'x': 339.0, 'height': 277.0}, 'label': 'Kaneshiro'}\n",
      "{'type': 'rectangle', 'coordinates': {'y': 101.0, 'width': 135.0, 'x': 98.0, 'height': 182.0}, 'label': 'Kaneshiro'}\n",
      "{'type': 'rectangle', 'coordinates': {'y': 65.0, 'width': 93.0, 'x': 112.0, 'height': 119.0}, 'label': 'Kaneshiro'}\n",
      "{'type': 'rectangle', 'coordinates': {'y': 169.0, 'width': 335.0, 'x': 551.0, 'height': 329.0}, 'label': 'Kaneshiro'}\n",
      "{'type': 'rectangle', 'coordinates': {'y': 165.0, 'width': 185.0, 'x': 273.0, 'height': 230.0}, 'label': 'Kaneshiro'}\n",
      "{'type': 'rectangle', 'coordinates': {'y': 335.0, 'width': 455.0, 'x': 579.0, 'height': 658.0}, 'label': 'Kaneshiro'}\n",
      "{'type': 'rectangle', 'coordinates': {'y': 65.0, 'width': 86.0, 'x': 128.0, 'height': 97.0}, 'label': 'Kaneshiro'}\n",
      "{'type': 'rectangle', 'coordinates': {'y': 97.0, 'width': 162.0, 'x': 134.0, 'height': 129.0}, 'label': 'Kaneshiro'}\n",
      "{'type': 'rectangle', 'coordinates': {'y': 125.0, 'width': 207.0, 'x': 183.0, 'height': 236.0}, 'label': 'Kaneshiro'}\n",
      "{'type': 'rectangle', 'coordinates': {'y': 179.0, 'width': 142.0, 'x': 281.0, 'height': 180.0}, 'label': 'Kaneshiro'}\n",
      "{'type': 'rectangle', 'coordinates': {'y': 337.0, 'width': 162.0, 'x': 302.0, 'height': 211.0}, 'label': 'Kaneshiro'}\n",
      "{'type': 'rectangle', 'coordinates': {'y': 46.0, 'width': 64.0, 'x': 143.0, 'height': 89.0}, 'label': 'Kaneshiro'}\n",
      "{'type': 'rectangle', 'coordinates': {'y': 116.0, 'width': 122.0, 'x': 212.0, 'height': 146.0}, 'label': 'Kaneshiro'}\n",
      "{'type': 'rectangle', 'coordinates': {'y': 234.0, 'width': 473.0, 'x': 450.0, 'height': 465.0}, 'label': 'Kaneshiro'}\n",
      "{'type': 'rectangle', 'coordinates': {'y': 213.0, 'width': 222.0, 'x': 327.0, 'height': 259.0}, 'label': 'Kaneshiro'}\n",
      "{'type': 'rectangle', 'coordinates': {'y': 267.0, 'width': 448.0, 'x': 331.0, 'height': 529.0}, 'label': 'Kaneshiro'}\n",
      "{'type': 'rectangle', 'coordinates': {'y': 259.0, 'width': 348.0, 'x': 615.0, 'height': 427.0}, 'label': 'Kaneshiro'}\n",
      "{'type': 'rectangle', 'coordinates': {'y': 70.0, 'width': 87.0, 'x': 237.0, 'height': 102.0}, 'label': 'Kaneshiro'}\n",
      "{'type': 'rectangle', 'coordinates': {'y': 92.0, 'width': 172.0, 'x': 158.0, 'height': 178.0}, 'label': 'Kaneshiro'}\n",
      "{'type': 'rectangle', 'coordinates': {'y': 94.0, 'width': 129.0, 'x': 155.0, 'height': 165.0}, 'label': 'Kaneshiro'}\n",
      "{'type': 'rectangle', 'coordinates': {'y': 159.0, 'width': 132.0, 'x': 134.0, 'height': 147.0}, 'label': 'Kaneshiro'}\n"
     ]
    }
   ],
   "source": [
    "csv = df\n",
    "\n",
    "for i, item in csv.iterrows():\n",
    "    height = csv.iat[i, 6] - csv.iat[i, 5]\n",
    "    width = csv.iat[i, 4] - csv.iat[i, 3]\n",
    "    x = csv.iat[i, 3] + math.floor(width / 2)\n",
    "    y = csv.iat[i, 5] + math.floor(height / 2)\n",
    "\n",
    "    props = {'label': csv.iat[i, 2], 'type': 'rectangle'}\n",
    "    props['coordinates'] = {'height': height, 'width': width, 'x': x, 'y': y}\n",
    "    print(props)\n",
    "    csv.iat[i, 7] = [props]\n",
    "\n",
    "csv.to_csv('annotations.csv')"
   ]
  }
 ],
 "metadata": {
  "kernelspec": {
   "display_name": "Python 2",
   "language": "python",
   "name": "python2"
  },
  "language_info": {
   "codemirror_mode": {
    "name": "ipython",
    "version": 2
   },
   "file_extension": ".py",
   "mimetype": "text/x-python",
   "name": "python",
   "nbconvert_exporter": "python",
   "pygments_lexer": "ipython2",
   "version": "2.7.10"
  }
 },
 "nbformat": 4,
 "nbformat_minor": 2
}
