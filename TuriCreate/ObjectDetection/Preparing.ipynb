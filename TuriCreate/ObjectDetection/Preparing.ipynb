{
 "cells": [
  {
   "cell_type": "code",
   "execution_count": 1,
   "metadata": {},
   "outputs": [],
   "source": [
    "import turicreate as tc\n",
    "from turicreate import SFrame\n",
    "from turicreate import SArray\n",
    "import pandas as pd\n",
    "import os"
   ]
  },
  {
   "cell_type": "code",
   "execution_count": 123,
   "metadata": {},
   "outputs": [],
   "source": [
    "pathToImages = 'images'\n",
    "\n",
    "# load image\n",
    "data = tc.image_analysis.load_images(pathToImages, with_path=True)\n",
    "# data = data.add_row_number('row')\n",
    "csv = pd.read_csv('annotations.csv')\n"
   ]
  },
  {
   "cell_type": "code",
   "execution_count": 126,
   "metadata": {},
   "outputs": [],
   "source": [
    "# From the path-name, create a label column\n",
    "data[\"annotaions\"] = data[\"path\"].apply(lambda path: [])"
   ]
  },
  {
   "cell_type": "code",
   "execution_count": 85,
   "metadata": {},
   "outputs": [
    {
     "name": "stdout",
     "output_type": "stream",
     "text": [
      "['images/IMG_0520.JPG', 'images/IMG_0521.JPG', 'images/IMG_0522.JPG', 'images/IMG_0523.JPG', 'images/IMG_0524.JPG', 'images/IMG_0525.JPG', 'images/IMG_0526.JPG', 'images/IMG_0527.JPG', 'images/IMG_0528.JPG', 'images/IMG_0529.JPG']\n"
     ]
    }
   ],
   "source": [
    "indexArray = data['path']\n",
    "\n",
    "\n",
    "tempArray = []\n",
    "\n",
    "for each in indexArray:\n",
    "    imageName = each[7:]\n",
    "    tempArray.append(imageName)\n",
    "\n",
    "indexArray = tempArray"
   ]
  },
  {
   "cell_type": "code",
   "execution_count": 157,
   "metadata": {},
   "outputs": [],
   "source": [
    "import ast\n",
    "\n",
    "type(sortedCSV['annotations'])\n",
    "\n",
    "convertToList = sortedCSV['annotations'].tolist()\n",
    "\n",
    "testList = ast.literal_eval(convertToList[0])"
   ]
  },
  {
   "cell_type": "code",
   "execution_count": 163,
   "metadata": {},
   "outputs": [
    {
     "name": "stdout",
     "output_type": "stream",
     "text": [
      "annotation array count: 10\n",
      "[[{'type': 'rectangle', 'coordinates': {'y': 1287.0, 'width': 261.0, 'height': 157.0, 'x': 572.0}, 'label': 'NotWally'}, {'type': 'rectangle', 'coordinates': {'y': 1226.0, 'width': 246.0, 'height': 234.0, 'x': 2569.0}, 'label': 'IsWally'}, {'type': 'rectangle', 'coordinates': {'y': 1291.0, 'width': 226.0, 'height': 149.0, 'x': 1507.0}, 'label': 'NotWally'}, {'type': 'rectangle', 'coordinates': {'y': 1285.0, 'width': 211.0, 'height': 199.0, 'x': 1238.0}, 'label': 'NotWally'}, {'type': 'rectangle', 'coordinates': {'y': 1506.0, 'width': 149.0, 'height': 157.0, 'x': 1188.0}, 'label': 'NotWally'}, {'type': 'rectangle', 'coordinates': {'y': 2065.0, 'width': 269.0, 'height': 184.0, 'x': 990.0}, 'label': 'NotWally'}, {'type': 'rectangle', 'coordinates': {'y': 2056.0, 'width': 276.0, 'height': 215.0, 'x': 580.0}, 'label': 'NotWally'}, {'type': 'rectangle', 'coordinates': {'y': 2039.0, 'width': 280.0, 'height': 249.0, 'x': 3496.0}, 'label': 'NotWally'}, {'type': 'rectangle', 'coordinates': {'y': 1226.0, 'width': 288.0, 'height': 204.0, 'x': 3623.0}, 'label': 'NotWally'}], [{'type': 'rectangle', 'coordinates': {'y': 1207.0, 'width': 264.0, 'height': 180.0, 'x': 1584.0}, 'label': 'NotWally'}, {'type': 'rectangle', 'coordinates': {'y': 1184.0, 'width': 281.0, 'height': 150.0, 'x': 2509.0}, 'label': 'NotWally'}, {'type': 'rectangle', 'coordinates': {'y': 475.0, 'width': 208.0, 'height': 207.0, 'x': 2185.0}, 'label': 'NotWally'}, {'type': 'rectangle', 'coordinates': {'y': 1938.0, 'width': 265.0, 'height': 200.0, 'x': 2294.0}, 'label': 'NotWally'}, {'type': 'rectangle', 'coordinates': {'y': 508.0, 'width': 284.0, 'height': 235.0, 'x': 1882.0}, 'label': 'NotWally'}, {'type': 'rectangle', 'coordinates': {'y': 529.0, 'width': 257.0, 'height': 185.0, 'x': 1299.0}, 'label': 'NotWally'}], [{'type': 'rectangle', 'coordinates': {'y': 1027.0, 'width': 230.0, 'height': 234.0, 'x': 2181.0}, 'label': 'NotWally'}, {'type': 'rectangle', 'coordinates': {'y': 1134.0, 'width': 219.0, 'height': 196.0, 'x': 1441.0}, 'label': 'NotWally'}, {'type': 'rectangle', 'coordinates': {'y': 1128.0, 'width': 223.0, 'height': 246.0, 'x': 787.0}, 'label': 'NotWally'}], [{'type': 'rectangle', 'coordinates': {'y': 1270.0, 'width': 234.0, 'height': 215.0, 'x': 3247.0}, 'label': 'NotWally'}, {'type': 'rectangle', 'coordinates': {'y': 1614.0, 'width': 284.0, 'height': 234.0, 'x': 2423.0}, 'label': 'NotWally'}, {'type': 'rectangle', 'coordinates': {'y': 1537.0, 'width': 249.0, 'height': 234.0, 'x': 2720.0}, 'label': 'NotWally'}, {'type': 'rectangle', 'coordinates': {'y': 1216.0, 'width': 211.0, 'height': 231.0, 'x': 3434.0}, 'label': 'IsWally'}, {'type': 'rectangle', 'coordinates': {'y': 1734.0, 'width': 199.0, 'height': 177.0, 'x': 1259.0}, 'label': 'NotWally'}, {'type': 'rectangle', 'coordinates': {'y': 1571.0, 'width': 242.0, 'height': 249.0, 'x': 463.0}, 'label': 'NotWally'}, {'type': 'rectangle', 'coordinates': {'y': 1719.0, 'width': 242.0, 'height': 223.0, 'x': 1826.0}, 'label': 'NotWally'}, {'type': 'rectangle', 'coordinates': {'y': 1650.0, 'width': 230.0, 'height': 215.0, 'x': 772.0}, 'label': 'NotWally'}], [{'type': 'rectangle', 'coordinates': {'y': 1076.0, 'width': 176.0, 'height': 195.0, 'x': 480.0}, 'label': 'NotWally'}, {'type': 'rectangle', 'coordinates': {'y': 1161.0, 'width': 165.0, 'height': 196.0, 'x': 992.0}, 'label': 'NotWally'}, {'type': 'rectangle', 'coordinates': {'y': 1122.0, 'width': 196.0, 'height': 211.0, 'x': 751.0}, 'label': 'NotWally'}, {'type': 'rectangle', 'coordinates': {'y': 1345.0, 'width': 207.0, 'height': 172.0, 'x': 3187.0}, 'label': 'NotWally'}, {'type': 'rectangle', 'coordinates': {'y': 1272.0, 'width': 254.0, 'height': 188.0, 'x': 3717.0}, 'label': 'NotWally'}, {'type': 'rectangle', 'coordinates': {'y': 1395.0, 'width': 169.0, 'height': 226.0, 'x': 2515.0}, 'label': 'NotWally'}, {'type': 'rectangle', 'coordinates': {'y': 1364.0, 'width': 188.0, 'height': 234.0, 'x': 2744.0}, 'label': 'NotWally'}], [{'type': 'rectangle', 'coordinates': {'y': 2152.0, 'width': 235.0, 'height': 353.0, 'x': 2532.0}, 'label': 'NotWally'}, {'type': 'rectangle', 'coordinates': {'y': 278.0, 'width': 269.0, 'height': 219.0, 'x': 779.0}, 'label': 'NotWally'}, {'type': 'rectangle', 'coordinates': {'y': 259.0, 'width': 250.0, 'height': 204.0, 'x': 1081.0}, 'label': 'NotWally'}, {'type': 'rectangle', 'coordinates': {'y': 535.0, 'width': 284.0, 'height': 295.0, 'x': 2419.0}, 'label': 'NotWally'}, {'type': 'rectangle', 'coordinates': {'y': 850.0, 'width': 192.0, 'height': 196.0, 'x': 2258.0}, 'label': 'NotWally'}, {'type': 'rectangle', 'coordinates': {'y': 2335.0, 'width': 350.0, 'height': 226.0, 'x': 2924.0}, 'label': 'NotWally'}, {'type': 'rectangle', 'coordinates': {'y': 1687.0, 'width': 242.0, 'height': 234.0, 'x': 655.0}, 'label': 'NotWally'}, {'type': 'rectangle', 'coordinates': {'y': 1136.0, 'width': 277.0, 'height': 254.0, 'x': 729.0}, 'label': 'NotWally'}, {'type': 'rectangle', 'coordinates': {'y': 1076.0, 'width': 261.0, 'height': 287.0, 'x': 1774.0}, 'label': 'IsWally'}, {'type': 'rectangle', 'coordinates': {'y': 1928.0, 'width': 246.0, 'height': 288.0, 'x': 776.0}, 'label': 'NotWally'}], [{'type': 'rectangle', 'coordinates': {'y': 1508.0, 'width': 277.0, 'height': 284.0, 'x': 1816.0}, 'label': 'NotWally'}, {'type': 'rectangle', 'coordinates': {'y': 311.0, 'width': 192.0, 'height': 230.0, 'x': 2711.0}, 'label': 'NotWally'}, {'type': 'rectangle', 'coordinates': {'y': 1838.0, 'width': 342.0, 'height': 322.0, 'x': 3512.0}, 'label': 'NotWally'}, {'type': 'rectangle', 'coordinates': {'y': 2598.0, 'width': 253.0, 'height': 330.0, 'x': 1954.0}, 'label': 'NotWally'}, {'type': 'rectangle', 'coordinates': {'y': 2582.0, 'width': 342.0, 'height': 353.0, 'x': 943.0}, 'label': 'NotWally'}, {'type': 'rectangle', 'coordinates': {'y': 2298.0, 'width': 238.0, 'height': 253.0, 'x': 188.0}, 'label': 'NotWally'}, {'type': 'rectangle', 'coordinates': {'y': 1333.0, 'width': 208.0, 'height': 241.0, 'x': 2953.0}, 'label': 'NotWally'}, {'type': 'rectangle', 'coordinates': {'y': 1303.0, 'width': 241.0, 'height': 196.0, 'x': 2244.0}, 'label': 'NotWally'}, {'type': 'rectangle', 'coordinates': {'y': 1076.0, 'width': 258.0, 'height': 265.0, 'x': 482.0}, 'label': 'NotWally'}, {'type': 'rectangle', 'coordinates': {'y': 2335.0, 'width': 219.0, 'height': 234.0, 'x': 2582.0}, 'label': 'NotWally'}], [{'type': 'rectangle', 'coordinates': {'y': 1980.0, 'width': 365.0, 'height': 253.0, 'x': 1610.0}, 'label': 'NotWally'}, {'type': 'rectangle', 'coordinates': {'y': 612.0, 'width': 311.0, 'height': 257.0, 'x': 800.0}, 'label': 'NotWally'}, {'type': 'rectangle', 'coordinates': {'y': 1830.0, 'width': 315.0, 'height': 291.0, 'x': 349.0}, 'label': 'NotWally'}, {'type': 'rectangle', 'coordinates': {'y': 1721.0, 'width': 281.0, 'height': 211.0, 'x': 896.0}, 'label': 'NotWally'}, {'type': 'rectangle', 'coordinates': {'y': 2448.0, 'width': 284.0, 'height': 284.0, 'x': 296.0}, 'label': 'NotWally'}, {'type': 'rectangle', 'coordinates': {'y': 2532.0, 'width': 388.0, 'height': 491.0, 'x': 1311.0}, 'label': 'NotWally'}, {'type': 'rectangle', 'coordinates': {'y': 2488.0, 'width': 323.0, 'height': 249.0, 'x': 2680.0}, 'label': 'NotWally'}, {'type': 'rectangle', 'coordinates': {'y': 531.0, 'width': 377.0, 'height': 327.0, 'x': 1647.0}, 'label': 'NotWally'}, {'type': 'rectangle', 'coordinates': {'y': 403.0, 'width': 326.0, 'height': 338.0, 'x': 1100.0}, 'label': 'NotWally'}], [{'type': 'rectangle', 'coordinates': {'y': 1731.0, 'width': 258.0, 'height': 330.0, 'x': 3097.0}, 'label': 'NotWally'}, {'type': 'rectangle', 'coordinates': {'y': 1195.0, 'width': 272.0, 'height': 273.0, 'x': 985.0}, 'label': 'NotWally'}, {'type': 'rectangle', 'coordinates': {'y': 1662.0, 'width': 246.0, 'height': 230.0, 'x': 526.0}, 'label': 'NotWally'}, {'type': 'rectangle', 'coordinates': {'y': 1558.0, 'width': 292.0, 'height': 322.0, 'x': 1663.0}, 'label': 'NotWally'}, {'type': 'rectangle', 'coordinates': {'y': 1316.0, 'width': 284.0, 'height': 376.0, 'x': 3279.0}, 'label': 'NotWally'}, {'type': 'rectangle', 'coordinates': {'y': 535.0, 'width': 319.0, 'height': 295.0, 'x': 2198.0}, 'label': 'NotWally'}, {'type': 'rectangle', 'coordinates': {'y': 2212.0, 'width': 291.0, 'height': 288.0, 'x': 2653.0}, 'label': 'NotWally'}, {'type': 'rectangle', 'coordinates': {'y': 554.0, 'width': 269.0, 'height': 265.0, 'x': 3210.0}, 'label': 'NotWally'}, {'type': 'rectangle', 'coordinates': {'y': 320.0, 'width': 346.0, 'height': 303.0, 'x': 768.0}, 'label': 'NotWally'}, {'type': 'rectangle', 'coordinates': {'y': 245.0, 'width': 323.0, 'height': 323.0, 'x': 1232.0}, 'label': 'NotWally'}], [{'type': 'rectangle', 'coordinates': {'y': 2079.0, 'width': 261.0, 'height': 261.0, 'x': 2657.0}, 'label': 'NotWally'}, {'type': 'rectangle', 'coordinates': {'y': 921.0, 'width': 250.0, 'height': 254.0, 'x': 3235.0}, 'label': 'NotWally'}, {'type': 'rectangle', 'coordinates': {'y': 1297.0, 'width': 200.0, 'height': 208.0, 'x': 726.0}, 'label': 'NotWally'}, {'type': 'rectangle', 'coordinates': {'y': 1137.0, 'width': 227.0, 'height': 219.0, 'x': 1457.0}, 'label': 'NotWally'}, {'type': 'rectangle', 'coordinates': {'y': 1529.0, 'width': 219.0, 'height': 219.0, 'x': 2179.0}, 'label': 'NotWally'}, {'type': 'rectangle', 'coordinates': {'y': 1454.0, 'width': 196.0, 'height': 169.0, 'x': 474.0}, 'label': 'NotWally'}]]\n"
     ]
    }
   ],
   "source": [
    "nameArray = indexArray\n",
    "\n",
    "annotationArray = list(data['annotaions'])\n",
    "\n",
    "print('annotation array count: ' + str(len(annotationArray)))\n",
    "    \n",
    "for index, row in sortedCSV.iterrows():\n",
    "#     print(' imageName: ' + str(row[1]) + ' annotation:' + str(row['annotations']))\n",
    "    indexOfNameArray = nameArray.index(str(row['image']))\n",
    "    tempAnnotation = annotationArray[indexOfNameArray]\n",
    "    tempList = ast.literal_eval(row['annotations'])\n",
    "#     print(type(tempList[0]))\n",
    "#     print(tempList[0])\n",
    "    tempAnnotation.append(tempList[0])\n",
    "    annotationArray[indexOfNameArray] = tempAnnotation\n",
    "    \n",
    "# print(annotationArray)"
   ]
  },
  {
   "cell_type": "code",
   "execution_count": 167,
   "metadata": {},
   "outputs": [],
   "source": [
    "# make an array from the annotations data, matching the data order\n"
   ]
  },
  {
   "cell_type": "code",
   "execution_count": 168,
   "metadata": {},
   "outputs": [
    {
     "name": "stdout",
     "output_type": "stream",
     "text": [
      "+---------------------+--------------------------+------------+\n",
      "|         path        |          image           | annotaions |\n",
      "+---------------------+--------------------------+------------+\n",
      "| images/IMG_0520.JPG | Height: 3024 Width: 4032 |     []     |\n",
      "| images/IMG_0521.JPG | Height: 3024 Width: 4032 |     []     |\n",
      "| images/IMG_0522.JPG | Height: 3024 Width: 4032 |     []     |\n",
      "| images/IMG_0523.JPG | Height: 3024 Width: 4032 |     []     |\n",
      "| images/IMG_0524.JPG | Height: 3024 Width: 4032 |     []     |\n",
      "| images/IMG_0525.JPG | Height: 3024 Width: 4032 |     []     |\n",
      "| images/IMG_0526.JPG | Height: 3024 Width: 4032 |     []     |\n",
      "| images/IMG_0527.JPG | Height: 3024 Width: 4032 |     []     |\n",
      "| images/IMG_0528.JPG | Height: 3024 Width: 4032 |     []     |\n",
      "| images/IMG_0529.JPG | Height: 3024 Width: 4032 |     []     |\n",
      "+---------------------+--------------------------+------------+\n",
      "+-------------------------------+\n",
      "|          annotations          |\n",
      "+-------------------------------+\n",
      "| [{'type': 'rectangle', 'co... |\n",
      "| [{'type': 'rectangle', 'co... |\n",
      "| [{'type': 'rectangle', 'co... |\n",
      "| [{'type': 'rectangle', 'co... |\n",
      "| [{'type': 'rectangle', 'co... |\n",
      "| [{'type': 'rectangle', 'co... |\n",
      "| [{'type': 'rectangle', 'co... |\n",
      "| [{'type': 'rectangle', 'co... |\n",
      "| [{'type': 'rectangle', 'co... |\n",
      "| [{'type': 'rectangle', 'co... |\n",
      "+-------------------------------+\n",
      "[10 rows x 4 columns]\n",
      "\n"
     ]
    }
   ],
   "source": [
    "print(data)"
   ]
  },
  {
   "cell_type": "code",
   "execution_count": 117,
   "metadata": {},
   "outputs": [
    {
     "name": "stdout",
     "output_type": "stream",
     "text": [
      "index of: 0 有 9\n",
      "index of: 1 有 6\n",
      "index of: 2 有 3\n",
      "index of: 3 有 8\n",
      "index of: 4 有 7\n",
      "index of: 5 有 10\n",
      "index of: 5 有 10\n",
      "index of: 0 有 9\n",
      "index of: 5 有 10\n",
      "index of: 1 有 6\n"
     ]
    },
    {
     "data": {
      "text/plain": [
       "['[', '[', '[', '[', '[', '[', '[', '[', '[']"
      ]
     },
     "execution_count": 117,
     "metadata": {},
     "output_type": "execute_result"
    }
   ],
   "source": [
    "for each in annotationArray:\n",
    "    print('index of: ' + str(annotationArray.index(each)) + ' 有 ' + str(len(each)))\n",
    "    \n",
    "transferAnnotation = annotationArray\n",
    "\n",
    "transferAnnotation[0]\n",
    "    "
   ]
  },
  {
   "cell_type": "markdown",
   "metadata": {},
   "source": [
    "把 annotationArray 插入 data 的 annotations column"
   ]
  },
  {
   "cell_type": "code",
   "execution_count": 170,
   "metadata": {},
   "outputs": [],
   "source": [
    "data['annotations'] = SArray(data=annotationArray, dtype=list)"
   ]
  },
  {
   "cell_type": "code",
   "execution_count": 178,
   "metadata": {},
   "outputs": [
    {
     "name": "stdout",
     "output_type": "stream",
     "text": [
      "+---------------------+--------------------------+\n",
      "|         path        |          image           |\n",
      "+---------------------+--------------------------+\n",
      "| images/IMG_0520.JPG | Height: 3024 Width: 4032 |\n",
      "| images/IMG_0521.JPG | Height: 3024 Width: 4032 |\n",
      "| images/IMG_0522.JPG | Height: 3024 Width: 4032 |\n",
      "| images/IMG_0523.JPG | Height: 3024 Width: 4032 |\n",
      "| images/IMG_0524.JPG | Height: 3024 Width: 4032 |\n",
      "| images/IMG_0525.JPG | Height: 3024 Width: 4032 |\n",
      "| images/IMG_0526.JPG | Height: 3024 Width: 4032 |\n",
      "| images/IMG_0527.JPG | Height: 3024 Width: 4032 |\n",
      "| images/IMG_0528.JPG | Height: 3024 Width: 4032 |\n",
      "| images/IMG_0529.JPG | Height: 3024 Width: 4032 |\n",
      "+---------------------+--------------------------+\n",
      "+-------------------------------+\n",
      "|          annotations          |\n",
      "+-------------------------------+\n",
      "| [{'type': 'rectangle', 'co... |\n",
      "| [{'type': 'rectangle', 'co... |\n",
      "| [{'type': 'rectangle', 'co... |\n",
      "| [{'type': 'rectangle', 'co... |\n",
      "| [{'type': 'rectangle', 'co... |\n",
      "| [{'type': 'rectangle', 'co... |\n",
      "| [{'type': 'rectangle', 'co... |\n",
      "| [{'type': 'rectangle', 'co... |\n",
      "| [{'type': 'rectangle', 'co... |\n",
      "| [{'type': 'rectangle', 'co... |\n",
      "+-------------------------------+\n",
      "[10 rows x 3 columns]\n",
      "\n"
     ]
    }
   ],
   "source": [
    "print(data)"
   ]
  },
  {
   "cell_type": "code",
   "execution_count": 179,
   "metadata": {},
   "outputs": [
    {
     "data": {
      "text/html": [
       "<pre>Materializing SFrame</pre>"
      ],
      "text/plain": [
       "Materializing SFrame"
      ]
     },
     "metadata": {},
     "output_type": "display_data"
    }
   ],
   "source": [
    "# Save the data for future use\n",
    "data.save('training.sframe')\n",
    "\n",
    "data['image_with_ground_truth'] = tc.object_detector.util.draw_bounding_boxes(data[\"image\"], data[\"annotations\"])\n",
    "\n",
    "# Explore interactively\n",
    "data.explore()"
   ]
  },
  {
   "cell_type": "code",
   "execution_count": 70,
   "metadata": {},
   "outputs": [],
   "source": [
    "tempArray = []\n",
    "for i in range(len(data['path'])):\n",
    "    emptyArray = []\n",
    "    tempArray.append(emptyArray)"
   ]
  },
  {
   "cell_type": "code",
   "execution_count": 59,
   "metadata": {},
   "outputs": [
    {
     "name": "stdout",
     "output_type": "stream",
     "text": [
      "['IMG_0520.JPG', 'IMG_0521.JPG', 'IMG_0522.JPG', 'IMG_0523.JPG', 'IMG_0524.JPG', 'IMG_0525.JPG', 'IMG_0526.JPG', 'IMG_0527.JPG', 'IMG_0528.JPG', 'IMG_0529.JPG']\n",
      "['IMG_0520.JPG', 'IMG_0521.JPG', 'IMG_0522.JPG', 'IMG_0523.JPG', 'IMG_0524.JPG', 'IMG_0525.JPG', 'IMG_0526.JPG', 'IMG_0527.JPG', 'IMG_0528.JPG', 'IMG_0529.JPG']\n"
     ]
    }
   ],
   "source": [
    "imageArray = []\n",
    "for image in images:\n",
    "    imageName = image[7:]\n",
    "    imageArray.append(imageName)\n",
    "    \n",
    "images = imageArray"
   ]
  },
  {
   "cell_type": "code",
   "execution_count": 16,
   "metadata": {},
   "outputs": [
    {
     "data": {
      "text/html": [
       "<pre>Materializing SFrame</pre>"
      ],
      "text/plain": [
       "Materializing SFrame"
      ]
     },
     "metadata": {},
     "output_type": "display_data"
    }
   ],
   "source": [
    "# Save the data for future use\n",
    "data.save('training.sframe')\n",
    "\n",
    "data['image_with_ground_truth'] = tc.object_detector.util.draw_bounding_boxes(data[\"image\"], data[\"annotations\"])\n",
    "\n",
    "# Explore interactively\n",
    "data.explore()"
   ]
  },
  {
   "cell_type": "code",
   "execution_count": 24,
   "metadata": {},
   "outputs": [],
   "source": [
    "annotationArray = data[\"annotations\"]"
   ]
  },
  {
   "cell_type": "code",
   "execution_count": 47,
   "metadata": {},
   "outputs": [
    {
     "name": "stdout",
     "output_type": "stream",
     "text": [
      "    Unnamed: 0         image  id     label    xMin    xMax    yMin    yMax  \\\n",
      "57          57  IMG_0520.JPG   6  NotWally   442.0   703.0  1209.0  1366.0   \n",
      "52          52  IMG_0520.JPG   1   IsWally  2446.0  2692.0  1109.0  1343.0   \n",
      "53          53  IMG_0520.JPG   2  NotWally  1394.0  1620.0  1217.0  1366.0   \n",
      "54          54  IMG_0520.JPG   3  NotWally  1133.0  1344.0  1186.0  1385.0   \n",
      "55          55  IMG_0520.JPG   4  NotWally  1114.0  1263.0  1428.0  1585.0   \n",
      "56          56  IMG_0520.JPG   5  NotWally   856.0  1125.0  1973.0  2157.0   \n",
      "58          58  IMG_0520.JPG   7  NotWally   442.0   718.0  1949.0  2164.0   \n",
      "59          59  IMG_0520.JPG   8  NotWally  3356.0  3636.0  1915.0  2164.0   \n",
      "60          60  IMG_0520.JPG   9  NotWally  3479.0  3767.0  1124.0  1328.0   \n",
      "61          61  IMG_0521.JPG   1  NotWally  1452.0  1716.0  1117.0  1297.0   \n",
      "66          66  IMG_0521.JPG   6  NotWally  2369.0  2650.0  1109.0  1259.0   \n",
      "65          65  IMG_0521.JPG   5  NotWally  2081.0  2289.0   372.0   579.0   \n",
      "64          64  IMG_0521.JPG   4  NotWally  2162.0  2427.0  1838.0  2038.0   \n",
      "63          63  IMG_0521.JPG   3  NotWally  1740.0  2024.0   391.0   626.0   \n",
      "62          62  IMG_0521.JPG   2  NotWally  1171.0  1428.0   437.0   622.0   \n",
      "77          77  IMG_0522.JPG   3  NotWally  2066.0  2296.0   910.0  1144.0   \n",
      "76          76  IMG_0522.JPG   2  NotWally  1332.0  1551.0  1036.0  1232.0   \n",
      "75          75  IMG_0522.JPG   1  NotWally   676.0   899.0  1005.0  1251.0   \n",
      "67          67  IMG_0523.JPG   1  NotWally  3130.0  3364.0  1163.0  1378.0   \n",
      "74          74  IMG_0523.JPG   8  NotWally  2281.0  2565.0  1497.0  1731.0   \n",
      "73          73  IMG_0523.JPG   7  NotWally  2596.0  2845.0  1420.0  1654.0   \n",
      "68          68  IMG_0523.JPG   2   IsWally  3329.0  3540.0  1101.0  1332.0   \n",
      "71          71  IMG_0523.JPG   5  NotWally  1160.0  1359.0  1646.0  1823.0   \n",
      "70          70  IMG_0523.JPG   4  NotWally   342.0   584.0  1447.0  1696.0   \n",
      "72          72  IMG_0523.JPG   6  NotWally  1705.0  1947.0  1608.0  1831.0   \n",
      "69          69  IMG_0523.JPG   3  NotWally   657.0   887.0  1543.0  1758.0   \n",
      "45          45  IMG_0524.JPG   1  NotWally   392.0   568.0   979.0  1174.0   \n",
      "47          47  IMG_0524.JPG   3  NotWally   910.0  1075.0  1063.0  1259.0   \n",
      "46          46  IMG_0524.JPG   2  NotWally   653.0   849.0  1017.0  1228.0   \n",
      "50          50  IMG_0524.JPG   6  NotWally  3084.0  3291.0  1259.0  1431.0   \n",
      "..         ...           ...  ..       ...     ...     ...     ...     ...   \n",
      "22          22  IMG_0526.JPG   7  NotWally    69.0   307.0  2172.0  2425.0   \n",
      "23          23  IMG_0526.JPG   8  NotWally  2849.0  3057.0  1213.0  1454.0   \n",
      "24          24  IMG_0526.JPG   9  NotWally  2124.0  2365.0  1205.0  1401.0   \n",
      "18          18  IMG_0526.JPG   3  NotWally   353.0   611.0   944.0  1209.0   \n",
      "25          25  IMG_0526.JPG  10  NotWally  2473.0  2692.0  2218.0  2452.0   \n",
      "26          26  IMG_0527.JPG   1  NotWally  1428.0  1793.0  1854.0  2107.0   \n",
      "27          27  IMG_0527.JPG   2  NotWally   645.0   956.0   484.0   741.0   \n",
      "28          28  IMG_0527.JPG   3  NotWally   192.0   507.0  1685.0  1976.0   \n",
      "29          29  IMG_0527.JPG   4  NotWally   756.0  1037.0  1616.0  1827.0   \n",
      "30          30  IMG_0527.JPG   5  NotWally   154.0   438.0  2306.0  2590.0   \n",
      "31          31  IMG_0527.JPG   6  NotWally  1117.0  1505.0  2287.0  2778.0   \n",
      "32          32  IMG_0527.JPG   7  NotWally  2519.0  2842.0  2364.0  2613.0   \n",
      "33          33  IMG_0527.JPG   8  NotWally  1459.0  1836.0   368.0   695.0   \n",
      "34          34  IMG_0527.JPG   9  NotWally   937.0  1263.0   234.0   572.0   \n",
      "6            6  IMG_0528.JPG   1  NotWally  2968.0  3226.0  1566.0  1896.0   \n",
      "7            7  IMG_0528.JPG   2  NotWally   849.0  1121.0  1059.0  1332.0   \n",
      "8            8  IMG_0528.JPG   3  NotWally   403.0   649.0  1547.0  1777.0   \n",
      "9            9  IMG_0528.JPG   4  NotWally  1517.0  1809.0  1397.0  1719.0   \n",
      "12          12  IMG_0528.JPG   7  NotWally  3137.0  3421.0  1128.0  1504.0   \n",
      "11          11  IMG_0528.JPG   6  NotWally  2039.0  2358.0   388.0   683.0   \n",
      "13          13  IMG_0528.JPG   8  NotWally  2508.0  2799.0  2068.0  2356.0   \n",
      "14          14  IMG_0528.JPG   9  NotWally  3076.0  3345.0   422.0   687.0   \n",
      "15          15  IMG_0528.JPG  10  NotWally   595.0   941.0   169.0   472.0   \n",
      "10          10  IMG_0528.JPG   5  NotWally  1071.0  1394.0    84.0   407.0   \n",
      "5            5  IMG_0529.JPG   6  NotWally  2527.0  2788.0  1949.0  2210.0   \n",
      "4            4  IMG_0529.JPG   5  NotWally  3110.0  3360.0   794.0  1048.0   \n",
      "3            3  IMG_0529.JPG   4  NotWally   626.0   826.0  1193.0  1401.0   \n",
      "2            2  IMG_0529.JPG   3  NotWally  1344.0  1571.0  1028.0  1247.0   \n",
      "1            1  IMG_0529.JPG   2  NotWally  2070.0  2289.0  1420.0  1639.0   \n",
      "0            0  IMG_0529.JPG   1  NotWally   376.0   572.0  1370.0  1539.0   \n",
      "\n",
      "                                          annotations  \n",
      "57  [{'type': 'rectangle', 'coordinates': {'y': 12...  \n",
      "52  [{'type': 'rectangle', 'coordinates': {'y': 12...  \n",
      "53  [{'type': 'rectangle', 'coordinates': {'y': 12...  \n",
      "54  [{'type': 'rectangle', 'coordinates': {'y': 12...  \n",
      "55  [{'type': 'rectangle', 'coordinates': {'y': 15...  \n",
      "56  [{'type': 'rectangle', 'coordinates': {'y': 20...  \n",
      "58  [{'type': 'rectangle', 'coordinates': {'y': 20...  \n",
      "59  [{'type': 'rectangle', 'coordinates': {'y': 20...  \n",
      "60  [{'type': 'rectangle', 'coordinates': {'y': 12...  \n",
      "61  [{'type': 'rectangle', 'coordinates': {'y': 12...  \n",
      "66  [{'type': 'rectangle', 'coordinates': {'y': 11...  \n",
      "65  [{'type': 'rectangle', 'coordinates': {'y': 47...  \n",
      "64  [{'type': 'rectangle', 'coordinates': {'y': 19...  \n",
      "63  [{'type': 'rectangle', 'coordinates': {'y': 50...  \n",
      "62  [{'type': 'rectangle', 'coordinates': {'y': 52...  \n",
      "77  [{'type': 'rectangle', 'coordinates': {'y': 10...  \n",
      "76  [{'type': 'rectangle', 'coordinates': {'y': 11...  \n",
      "75  [{'type': 'rectangle', 'coordinates': {'y': 11...  \n",
      "67  [{'type': 'rectangle', 'coordinates': {'y': 12...  \n",
      "74  [{'type': 'rectangle', 'coordinates': {'y': 16...  \n",
      "73  [{'type': 'rectangle', 'coordinates': {'y': 15...  \n",
      "68  [{'type': 'rectangle', 'coordinates': {'y': 12...  \n",
      "71  [{'type': 'rectangle', 'coordinates': {'y': 17...  \n",
      "70  [{'type': 'rectangle', 'coordinates': {'y': 15...  \n",
      "72  [{'type': 'rectangle', 'coordinates': {'y': 17...  \n",
      "69  [{'type': 'rectangle', 'coordinates': {'y': 16...  \n",
      "45  [{'type': 'rectangle', 'coordinates': {'y': 10...  \n",
      "47  [{'type': 'rectangle', 'coordinates': {'y': 11...  \n",
      "46  [{'type': 'rectangle', 'coordinates': {'y': 11...  \n",
      "50  [{'type': 'rectangle', 'coordinates': {'y': 13...  \n",
      "..                                                ...  \n",
      "22  [{'type': 'rectangle', 'coordinates': {'y': 22...  \n",
      "23  [{'type': 'rectangle', 'coordinates': {'y': 13...  \n",
      "24  [{'type': 'rectangle', 'coordinates': {'y': 13...  \n",
      "18  [{'type': 'rectangle', 'coordinates': {'y': 10...  \n",
      "25  [{'type': 'rectangle', 'coordinates': {'y': 23...  \n",
      "26  [{'type': 'rectangle', 'coordinates': {'y': 19...  \n",
      "27  [{'type': 'rectangle', 'coordinates': {'y': 61...  \n",
      "28  [{'type': 'rectangle', 'coordinates': {'y': 18...  \n",
      "29  [{'type': 'rectangle', 'coordinates': {'y': 17...  \n",
      "30  [{'type': 'rectangle', 'coordinates': {'y': 24...  \n",
      "31  [{'type': 'rectangle', 'coordinates': {'y': 25...  \n",
      "32  [{'type': 'rectangle', 'coordinates': {'y': 24...  \n",
      "33  [{'type': 'rectangle', 'coordinates': {'y': 53...  \n",
      "34  [{'type': 'rectangle', 'coordinates': {'y': 40...  \n",
      "6   [{'type': 'rectangle', 'coordinates': {'y': 17...  \n",
      "7   [{'type': 'rectangle', 'coordinates': {'y': 11...  \n",
      "8   [{'type': 'rectangle', 'coordinates': {'y': 16...  \n",
      "9   [{'type': 'rectangle', 'coordinates': {'y': 15...  \n",
      "12  [{'type': 'rectangle', 'coordinates': {'y': 13...  \n",
      "11  [{'type': 'rectangle', 'coordinates': {'y': 53...  \n",
      "13  [{'type': 'rectangle', 'coordinates': {'y': 22...  \n",
      "14  [{'type': 'rectangle', 'coordinates': {'y': 55...  \n",
      "15  [{'type': 'rectangle', 'coordinates': {'y': 32...  \n",
      "10  [{'type': 'rectangle', 'coordinates': {'y': 24...  \n",
      "5   [{'type': 'rectangle', 'coordinates': {'y': 20...  \n",
      "4   [{'type': 'rectangle', 'coordinates': {'y': 92...  \n",
      "3   [{'type': 'rectangle', 'coordinates': {'y': 12...  \n",
      "2   [{'type': 'rectangle', 'coordinates': {'y': 11...  \n",
      "1   [{'type': 'rectangle', 'coordinates': {'y': 15...  \n",
      "0   [{'type': 'rectangle', 'coordinates': {'y': 14...  \n",
      "\n",
      "[78 rows x 9 columns]\n"
     ]
    }
   ],
   "source": [
    "sortedCSV = csv.sort_values('image')\n",
    "print(sortedCSV)\n"
   ]
  }
 ],
 "metadata": {
  "kernelspec": {
   "display_name": "Python 2",
   "language": "python",
   "name": "python2"
  },
  "language_info": {
   "codemirror_mode": {
    "name": "ipython",
    "version": 2
   },
   "file_extension": ".py",
   "mimetype": "text/x-python",
   "name": "python",
   "nbconvert_exporter": "python",
   "pygments_lexer": "ipython2",
   "version": "2.7.10"
  }
 },
 "nbformat": 4,
 "nbformat_minor": 2
}
