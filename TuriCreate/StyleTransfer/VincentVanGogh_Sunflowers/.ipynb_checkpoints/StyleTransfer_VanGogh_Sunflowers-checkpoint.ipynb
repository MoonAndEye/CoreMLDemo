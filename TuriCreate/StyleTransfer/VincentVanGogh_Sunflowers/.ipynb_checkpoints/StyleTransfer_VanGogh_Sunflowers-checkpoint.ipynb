{
 "cells": [
  {
   "cell_type": "code",
   "execution_count": 1,
   "metadata": {},
   "outputs": [],
   "source": [
    "import turicreate as tc"
   ]
  },
  {
   "cell_type": "code",
   "execution_count": 2,
   "metadata": {},
   "outputs": [],
   "source": [
    "style = tc.load_images('./style')\n",
    "content = tc.load_images('./content')"
   ]
  },
  {
   "cell_type": "code",
   "execution_count": null,
   "metadata": {},
   "outputs": [
    {
     "name": "stdout",
     "output_type": "stream",
     "text": [
      "Using 'image' in style_dataset as feature column and using 'image' in content_dataset as feature column\n",
      "Using CPU to create model\n",
      "Analyzing visual features of the style images\n",
      "+--------------+--------------+--------------+\n",
      "| Iteration    | Loss         | Elapsed Time |\n",
      "+--------------+--------------+--------------+\n",
      "| 1            | 12.704       | 10.9         |\n",
      "| 2            | 12.697       | 40.9         |\n"
     ]
    }
   ],
   "source": [
    "model = tc.style_transfer.create(style, content, max_iterations=1000)"
   ]
  }
 ],
 "metadata": {
  "kernelspec": {
   "display_name": "Python 2",
   "language": "python",
   "name": "python2"
  },
  "language_info": {
   "codemirror_mode": {
    "name": "ipython",
    "version": 2
   },
   "file_extension": ".py",
   "mimetype": "text/x-python",
   "name": "python",
   "nbconvert_exporter": "python",
   "pygments_lexer": "ipython2",
   "version": "2.7.10"
  }
 },
 "nbformat": 4,
 "nbformat_minor": 2
}
